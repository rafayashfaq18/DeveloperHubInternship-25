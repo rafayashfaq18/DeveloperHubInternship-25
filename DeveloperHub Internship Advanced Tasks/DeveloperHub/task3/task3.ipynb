{
 "cells": [
  {
   "cell_type": "code",
   "execution_count": null,
   "id": "cf09a7d9-c6fa-4603-ac07-b7bdb9032c1b",
   "metadata": {},
   "outputs": [],
   "source": [
    "!pip install tensorflow pandas scikit-learn -q\n",
    "\n",
    "import tensorflow as tf\n",
    "import pandas as pd\n",
    "import numpy as np\n",
    "from sklearn.model_selection import train_test_split\n",
    "from sklearn.preprocessing import StandardScaler\n",
    "from sklearn.metrics import mean_absolute_error, mean_squared_error\n",
    "import os\n"
   ]
  },
  {
   "cell_type": "code",
   "execution_count": null,
   "id": "270856d5-5def-437e-b5b3-49e1f2cf5a6d",
   "metadata": {},
   "outputs": [],
   "source": [
    "# Load example tabular data\n",
    "# You should replace this with your actual housing dataset\n",
    "tabular_data = pd.read_csv(\"https://raw.githubusercontent.com/ageron/handson-ml2/master/datasets/housing/housing.csv\")\n",
    "tabular_data.dropna(inplace=True)\n",
    "tabular_data = pd.get_dummies(tabular_data)\n",
    "\n",
    "# Simulate image features (replace with CNN output in practice)\n",
    "tabular_data[\"image_feature\"] = np.random.rand(len(tabular_data))\n",
    "\n",
    "# Split\n",
    "X = tabular_data.drop(\"median_house_value\", axis=1)\n",
    "y = tabular_data[\"median_house_value\"]\n",
    "\n",
    "X_train, X_test, y_train, y_test = train_test_split(X, y, test_size=0.2, random_state=42)\n",
    "\n",
    "# Normalize\n",
    "scaler = StandardScaler()\n",
    "X_train_scaled = scaler.fit_transform(X_train)\n",
    "X_test_scaled = scaler.transform(X_test)"
   ]
  },
  {
   "cell_type": "code",
   "execution_count": null,
   "id": "50fcff68-205d-4668-8e59-90e0e8a7cefc",
   "metadata": {},
   "outputs": [],
   "source": [
    "# Model\n",
    "model = tf.keras.Sequential([\n",
    "    tf.keras.layers.Input(shape=(X_train_scaled.shape[1],)),\n",
    "    tf.keras.layers.Dense(128, activation='relu'),\n",
    "    tf.keras.layers.Dense(64, activation='relu'),\n",
    "    tf.keras.layers.Dense(1)\n",
    "])\n",
    "\n",
    "model.compile(optimizer='adam', loss='mse', metrics=['mae'])\n",
    "\n",
    "model.fit(X_train_scaled, y_train, epochs=10, batch_size=32, validation_split=0.1)\n",
    "\n",
    "preds = model.predict(X_test_scaled).flatten()\n",
    "print(\"MAE:\", mean_absolute_error(y_test, preds))\n",
    "print(\"RMSE:\", mean_squared_error(y_test, preds, squared=False))\n"
   ]
  }
 ],
 "metadata": {
  "kernelspec": {
   "display_name": "Python 3 (ipykernel)",
   "language": "python",
   "name": "python3"
  },
  "language_info": {
   "codemirror_mode": {
    "name": "ipython",
    "version": 3
   },
   "file_extension": ".py",
   "mimetype": "text/x-python",
   "name": "python",
   "nbconvert_exporter": "python",
   "pygments_lexer": "ipython3",
   "version": "3.13.2"
  }
 },
 "nbformat": 4,
 "nbformat_minor": 5
}
