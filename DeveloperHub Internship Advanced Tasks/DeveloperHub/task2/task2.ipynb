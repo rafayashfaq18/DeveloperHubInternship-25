{
 "cells": [
  {
   "cell_type": "code",
   "execution_count": null,
   "id": "a996ee82-ccd0-495c-b1d8-02d3f80b9273",
   "metadata": {},
   "outputs": [],
   "source": [
    "\n",
    "# Install required libraries\n",
    "!pip install pandas scikit-learn joblib -q\n",
    "\n",
    "import pandas as pd\n",
    "from sklearn.model_selection import train_test_split, GridSearchCV\n",
    "from sklearn.preprocessing import StandardScaler, OneHotEncoder\n",
    "from sklearn.compose import ColumnTransformer\n",
    "from sklearn.pipeline import Pipeline\n",
    "from sklearn.linear_model import LogisticRegression\n",
    "from sklearn.ensemble import RandomForestClassifier\n",
    "from sklearn.metrics import classification_report\n",
    "import joblib\n",
    "\n",
    "\n"
   ]
  },
  {
   "cell_type": "code",
   "execution_count": null,
   "id": "c7e834c0-94ce-4d2d-b4a2-6d86011773b7",
   "metadata": {},
   "outputs": [],
   "source": [
    "url = \"https://raw.githubusercontent.com/blastchar/telco-customer-churn/master/WA_Fn-UseC_-Telco-Customer-Churn.csv\"\n",
    "df = pd.read_csv(url)\n",
    "\n",
    "df.dropna(inplace=True)\n",
    "df.drop(['customerID'], axis=1, inplace=True)\n",
    "df['Churn'] = df['Churn'].map({'Yes':1, 'No':0})\n",
    "\n",
    "X = df.drop('Churn', axis=1)\n",
    "y = df['Churn']\n",
    "\n",
    "num_features = X.select_dtypes(include=['int64', 'float64']).columns.tolist()\n",
    "cat_features = X.select_dtypes(include=['object']).columns.tolist()\n",
    "\n",
    "preprocessor = ColumnTransformer([\n",
    "    (\"num\", StandardScaler(), num_features),\n",
    "    (\"cat\", OneHotEncoder(handle_unknown=\"ignore\"), cat_features)\n",
    "])\n",
    "\n",
    "pipe = Pipeline([\n",
    "    ('preprocess', preprocessor),\n",
    "    ('clf', LogisticRegression(max_iter=1000))\n",
    "])\n",
    "\n",
    "params = {\n",
    "    'clf': [LogisticRegression(max_iter=1000), RandomForestClassifier()],\n",
    "    'clf__C': [0.1, 1, 10] if isinstance(pipe.named_steps['clf'], LogisticRegression) else [None]\n",
    "}\n",
    "\n",
    "grid = GridSearchCV(pipe, param_grid=params, cv=3, scoring='accuracy', n_jobs=-1)\n",
    "grid.fit(X, y)\n",
    "\n",
    "print(\"Best Model:\", grid.best_estimator_)\n",
    "print(classification_report(y, grid.predict(X)))\n",
    "\n",
    "joblib.dump(grid.best_estimator_, 'telco_churn_pipeline.pkl')\n"
   ]
  }
 ],
 "metadata": {
  "kernelspec": {
   "display_name": "Python 3 (ipykernel)",
   "language": "python",
   "name": "python3"
  },
  "language_info": {
   "codemirror_mode": {
    "name": "ipython",
    "version": 3
   },
   "file_extension": ".py",
   "mimetype": "text/x-python",
   "name": "python",
   "nbconvert_exporter": "python",
   "pygments_lexer": "ipython3",
   "version": "3.13.2"
  }
 },
 "nbformat": 4,
 "nbformat_minor": 5
}
